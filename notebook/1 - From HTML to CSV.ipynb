{
 "cells": [
  {
   "cell_type": "code",
   "execution_count": 10,
   "metadata": {},
   "outputs": [],
   "source": [
    "from bs4 import BeautifulSoup\n",
    "import codecs\n",
    "import os\n",
    "import csv\n",
    "\n",
    "filename = 'D_LOTFED.HTM'\n",
    "\n",
    "with codecs.open(os.path.join('../data', filename), 'r', 'utf-8') as f:\n",
    "    soup = BeautifulSoup(f.read(), 'html.parser')\n",
    "    \n",
    "trs = soup.find_all('tr')\n",
    "header_tr = trs[0]\n",
    "resultados_trs = trs[1:]\n",
    "\n",
    "header = [td.text for td in header_tr.find_all('td')]\n",
    "header = header[:7]\n",
    "\n",
    "resultados = []\n",
    "\n",
    "for resultado_tr in resultados_trs:\n",
    "    \n",
    "    tds = resultado_tr.find_all('td')\n",
    "    \n",
    "    if len(tds) < len(header):\n",
    "        continue\n",
    "    \n",
    "    resultado = dict(zip(header, [td.text for td in tds]))\n",
    "    \n",
    "    resultados.append(resultado)\n",
    "    \n",
    "\n",
    "with codecs.open(os.path.join('../data', '{}.csv'.format(filename)), 'w', 'utf-8') as f:\n",
    "    \n",
    "    writer = csv.DictWriter(f, header)\n",
    "    \n",
    "    writer.writeheader()\n",
    "    \n",
    "    for resultado in resultados:\n",
    "        \n",
    "        writer.writerow(resultado)"
   ]
  },
  {
   "cell_type": "code",
   "execution_count": 11,
   "metadata": {},
   "outputs": [
    {
     "name": "stdout",
     "output_type": "stream",
     "text": [
      "Concurso,Data Sorteio,1º Prêmio,2º Prêmio,3º Prêmio,4º Prêmio,5º Prêmio\r",
      "\r\n",
      "00001,15/09/1962,05349,38031,26492,25151,01416\r",
      "\r\n",
      "00002,22/09/1962,03334,34714,20967,36468,18452\r",
      "\r\n",
      "00003,29/09/1962,27793,15637,11505,14184,25711\r",
      "\r\n",
      "00004,03/10/1962,10896,37354,38461,01951,33569\r",
      "\r\n",
      "00005,06/10/1962,23972,33280,03664,34058,03746\r",
      "\r\n",
      "00006,10/10/1962,00934,15267,03690,24257,32504\r",
      "\r\n",
      "00007,13/10/1962,01314,10660,01472,07130,00810\r",
      "\r\n",
      "00008,17/10/1962,21096,01329,25331,16235,03141\r",
      "\r\n",
      "00009,20/10/1962,05728,20382,32260,28491,27274\r",
      "\r\n"
     ]
    }
   ],
   "source": [
    "!head ../data/D_LOTFED.HTM.csv"
   ]
  }
 ],
 "metadata": {
  "kernelspec": {
   "display_name": "Python 3",
   "language": "python",
   "name": "python3"
  },
  "language_info": {
   "codemirror_mode": {
    "name": "ipython",
    "version": 3
   },
   "file_extension": ".py",
   "mimetype": "text/x-python",
   "name": "python",
   "nbconvert_exporter": "python",
   "pygments_lexer": "ipython3",
   "version": "3.6.7"
  }
 },
 "nbformat": 4,
 "nbformat_minor": 2
}
